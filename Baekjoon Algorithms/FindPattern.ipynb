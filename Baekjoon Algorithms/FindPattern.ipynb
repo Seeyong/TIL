{
 "cells": [
  {
   "cell_type": "markdown",
   "metadata": {},
   "source": [
    "# Find Fractional Numbers"
   ]
  },
  {
   "cell_type": "code",
   "execution_count": 75,
   "metadata": {},
   "outputs": [
    {
     "name": "stdout",
     "output_type": "stream",
     "text": [
      "5\n",
      "2/2\n"
     ]
    }
   ],
   "source": [
    "number = int(input())\n",
    "count = 0\n",
    "for i in range(10000000):\n",
    "    count += i\n",
    "    if count > number:\n",
    "        present_row = i\n",
    "        final_count = count-i\n",
    "        add_count = number - final_count\n",
    "        break\n",
    "        \n",
    "numerator = 0\n",
    "denominator = 0\n",
    "if present_row % 2 == 0:\n",
    "    numerator = add_count\n",
    "    denominator = present_row - add_count + 1\n",
    "    if numerator == 0:\n",
    "        numerator += 1\n",
    "        denominator -= 2\n",
    "else:\n",
    "    numerator = present_row - add_count + 1\n",
    "    denominator = add_count\n",
    "    if denominator == 0:\n",
    "        numerator -= 2\n",
    "        denominator += 1\n",
    "    \n",
    "final_result = str(numerator) + '/' + str(denominator)\n",
    "print(final_result.replace(' ',''))"
   ]
  },
  {
   "cell_type": "code",
   "execution_count": 73,
   "metadata": {},
   "outputs": [
    {
     "name": "stdout",
     "output_type": "stream",
     "text": [
      "5\n",
      "2/2\n"
     ]
    }
   ],
   "source": [
    "number = int(input())\n",
    "numerator = []\n",
    "denominator = []\n",
    "\n",
    "for i in range(1, 1000001):\n",
    "    if i % 2 == 0:\n",
    "        numerator += [j for j in range(1, i+1)]\n",
    "        denominator += [j for j in range(i, 0, -1)]\n",
    "\n",
    "    else:\n",
    "        denominator += [j for j in range(1, i+1)]\n",
    "        numerator += [j for j in range(i, 0, -1)]\n",
    "        \n",
    "    if len(numerator) >= number:\n",
    "        print(str(numerator[number-1])+'/'+str(denominator[number-1]))\n",
    "        break"
   ]
  },
  {
   "cell_type": "code",
   "execution_count": 74,
   "metadata": {},
   "outputs": [
    {
     "name": "stdout",
     "output_type": "stream",
     "text": [
      "5\n",
      "2/2\n"
     ]
    }
   ],
   "source": [
    "idx=int(input())\n",
    "\n",
    "degree=0\n",
    "degree_sum=0\n",
    "\n",
    "while(degree_sum<idx):\n",
    "    degree+=1\n",
    "    degree_sum+=degree\n",
    "\n",
    "gap = degree_sum - idx\n",
    "\n",
    "if(degree%2==1):\n",
    "    denom = degree - gap\n",
    "    numer= degree+1 - denom\n",
    "else:\n",
    "    numer = degree - gap\n",
    "    denom = degree+1 - numer\n",
    "    \n",
    "print(\"{}/{}\".format(numer,denom))"
   ]
  },
  {
   "cell_type": "code",
   "execution_count": null,
   "metadata": {},
   "outputs": [],
   "source": []
  }
 ],
 "metadata": {
  "kernelspec": {
   "display_name": "Python 3",
   "language": "python",
   "name": "python3"
  },
  "language_info": {
   "codemirror_mode": {
    "name": "ipython",
    "version": 3
   },
   "file_extension": ".py",
   "mimetype": "text/x-python",
   "name": "python",
   "nbconvert_exporter": "python",
   "pygments_lexer": "ipython3",
   "version": "3.6.5"
  }
 },
 "nbformat": 4,
 "nbformat_minor": 2
}
