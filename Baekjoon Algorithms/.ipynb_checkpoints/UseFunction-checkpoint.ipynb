{
 "cells": [
  {
   "cell_type": "markdown",
   "metadata": {},
   "source": [
    "### 한수"
   ]
  },
  {
   "cell_type": "code",
   "execution_count": 14,
   "metadata": {},
   "outputs": [
    {
     "name": "stdout",
     "output_type": "stream",
     "text": [
      "100\n"
     ]
    }
   ],
   "source": [
    "for i in range(100, 101):\n",
    "    print(i)"
   ]
  },
  {
   "cell_type": "code",
   "execution_count": 37,
   "metadata": {},
   "outputs": [
    {
     "name": "stdout",
     "output_type": "stream",
     "text": [
      "210\n",
      "104\n"
     ]
    }
   ],
   "source": [
    "str_number = input()\n",
    "int_number = int(str_number)\n",
    "count = 0\n",
    "if int_number < 100:\n",
    "    count = int_number\n",
    "else:\n",
    "    for i in range(100, int_number):\n",
    "        subtsractions = []\n",
    "        for l in range(len(str(i)) - 1):\n",
    "            subt = int(str(i)[l+1]) - int(str(i)[l])\n",
    "            subtsractions.append(subt)\n",
    "        if len(set(subtsractions)) == 1:\n",
    "            count += 1\n",
    "    count += 99\n",
    "print(count)"
   ]
  },
  {
   "cell_type": "markdown",
   "metadata": {},
   "source": [
    "### Self Number"
   ]
  },
  {
   "cell_type": "code",
   "execution_count": 38,
   "metadata": {},
   "outputs": [],
   "source": [
    "self_numbers = []\n",
    "others = []\n",
    "\n",
    "for i in range(10000):\n",
    "    number = 0\n",
    "    for r in range(len(str(i))):\n",
    "        number += int(str(i)[r])\n",
    "    others.append(i+number)\n",
    "\n",
    "    if i not in others:\n",
    "        self_numbers.append(i)\n",
    "\n",
    "for number in self_numbers:\n",
    "    print(number)"
   ]
  },
  {
   "cell_type": "code",
   "execution_count": null,
   "metadata": {},
   "outputs": [],
   "source": []
  }
 ],
 "metadata": {
  "kernelspec": {
   "display_name": "Python 3",
   "language": "python",
   "name": "python3"
  },
  "language_info": {
   "codemirror_mode": {
    "name": "ipython",
    "version": 3
   },
   "file_extension": ".py",
   "mimetype": "text/x-python",
   "name": "python",
   "nbconvert_exporter": "python",
   "pygments_lexer": "ipython3",
   "version": "3.6.5"
  }
 },
 "nbformat": 4,
 "nbformat_minor": 2
}
