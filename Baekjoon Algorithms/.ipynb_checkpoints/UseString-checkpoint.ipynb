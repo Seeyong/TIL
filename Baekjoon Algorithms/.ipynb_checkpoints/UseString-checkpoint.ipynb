{
 "cells": [
  {
   "cell_type": "markdown",
   "metadata": {},
   "source": [
    "# ASCII Code"
   ]
  },
  {
   "cell_type": "code",
   "execution_count": 10,
   "metadata": {},
   "outputs": [
    {
     "name": "stdout",
     "output_type": "stream",
     "text": [
      "A\n",
      "65\n"
     ]
    }
   ],
   "source": [
    "print(ord(input()))"
   ]
  },
  {
   "cell_type": "markdown",
   "metadata": {},
   "source": [
    "# Alphabet Searching"
   ]
  },
  {
   "cell_type": "code",
   "execution_count": 44,
   "metadata": {},
   "outputs": [
    {
     "name": "stdout",
     "output_type": "stream",
     "text": [
      "baekjoon\n",
      "1 0 -1 -1 2 -1 -1 -1 -1 4 3 -1 -1 7 5 -1 -1 -1 -1 -1 -1 -1 -1 -1 -1 -1 \n"
     ]
    }
   ],
   "source": [
    "import string\n",
    "alphabet_dict = {}\n",
    "for ch in string.ascii_lowercase[:26]:\n",
    "    alphabet_dict[ch] = -1\n",
    "    \n",
    "S = input()\n",
    "for n, i in enumerate(S):\n",
    "    if alphabet_dict[i] == -1:\n",
    "        alphabet_dict[i] = n\n",
    "\n",
    "result = ''\n",
    "for num in alphabet_dict.values():\n",
    "    result += str(num) + ' '\n",
    "    \n",
    "print(result)"
   ]
  },
  {
   "cell_type": "markdown",
   "metadata": {},
   "source": [
    "# Repeat strings"
   ]
  },
  {
   "cell_type": "code",
   "execution_count": 50,
   "metadata": {},
   "outputs": [
    {
     "name": "stdout",
     "output_type": "stream",
     "text": [
      "2\n",
      "3 ABC\n",
      "5 /HTP\n",
      "AAABBBCCC\n",
      "/////HHHHHTTTTTPPPPP\n"
     ]
    }
   ],
   "source": [
    "cases = []\n",
    "num_case = int(input())\n",
    "for num in range(num_case):\n",
    "    cases.append(input())\n",
    "    \n",
    "for case in cases:\n",
    "    sep_case = case.split(' ')\n",
    "    count = int(sep_case[0])\n",
    "    chars = sep_case[1]\n",
    "    result = ''\n",
    "    for ch in chars:\n",
    "        result += ch*count\n",
    "    print(result)"
   ]
  },
  {
   "cell_type": "markdown",
   "metadata": {},
   "source": [
    "# Word study"
   ]
  },
  {
   "cell_type": "code",
   "execution_count": 76,
   "metadata": {},
   "outputs": [
    {
     "name": "stdout",
     "output_type": "stream",
     "text": [
      "Mississipi\n",
      "?\n"
     ]
    }
   ],
   "source": [
    "word = input()\n",
    "ch_dict = {}\n",
    "for ch in word:\n",
    "    if ch.upper() in ch_dict:\n",
    "        ch_dict[ch.upper()] += 1\n",
    "    else:\n",
    "        ch_dict[ch.upper()] = 1\n",
    "\n",
    "num_max = max(ch_dict.values())\n",
    "\n",
    "count_max = 0\n",
    "for key, value in ch_dict.items():\n",
    "    if value == num_max:\n",
    "        count_max += 1\n",
    "\n",
    "if count_max > 1:\n",
    "    print('?')\n",
    "else:\n",
    "    for key in ch_dict.keys():\n",
    "        if ch_dict[key] == num_max:\n",
    "            print(key)"
   ]
  },
  {
   "cell_type": "markdown",
   "metadata": {},
   "source": [
    "# Group words Checker"
   ]
  },
  {
   "cell_type": "code",
   "execution_count": 18,
   "metadata": {},
   "outputs": [
    {
     "name": "stdout",
     "output_type": "stream",
     "text": [
      "4\n",
      "aba\n",
      "abab\n",
      "abcabc\n",
      "a\n",
      "1\n"
     ]
    }
   ],
   "source": [
    "num_cases = int(input())\n",
    "cases_dict = {}\n",
    "for num in range(num_cases):\n",
    "    cases_dict[input()] = True\n",
    "    \n",
    "for case in cases_dict.keys():\n",
    "    chars = [case[0]]\n",
    "    for n, ch in enumerate(case[1:]):\n",
    "        if (ch != case[n]) and (ch in chars):\n",
    "            cases_dict[case] = False\n",
    "            break\n",
    "        chars.append(ch)\n",
    "result = sum(cases_dict.values())\n",
    "print(result)"
   ]
  },
  {
   "cell_type": "code",
   "execution_count": null,
   "metadata": {},
   "outputs": [],
   "source": []
  }
 ],
 "metadata": {
  "kernelspec": {
   "display_name": "Python 3",
   "language": "python",
   "name": "python3"
  },
  "language_info": {
   "codemirror_mode": {
    "name": "ipython",
    "version": 3
   },
   "file_extension": ".py",
   "mimetype": "text/x-python",
   "name": "python",
   "nbconvert_exporter": "python",
   "pygments_lexer": "ipython3",
   "version": "3.6.5"
  }
 },
 "nbformat": 4,
 "nbformat_minor": 2
}
