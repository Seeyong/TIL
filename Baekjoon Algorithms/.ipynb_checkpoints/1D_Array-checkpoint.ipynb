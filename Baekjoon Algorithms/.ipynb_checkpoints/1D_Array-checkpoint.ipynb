{
 "cells": [
  {
   "cell_type": "markdown",
   "metadata": {},
   "source": [
    "# Scales"
   ]
  },
  {
   "cell_type": "code",
   "execution_count": 43,
   "metadata": {},
   "outputs": [
    {
     "name": "stdout",
     "output_type": "stream",
     "text": [
      "1 2 3 4 5 6 7 8\n",
      "ascending\n"
     ]
    }
   ],
   "source": [
    "scales = input().split(' ')\n",
    "scales = [int(n) for n in scales]\n",
    "\n",
    "count_dict = {'a':0, 'd':0, 'm':0}\n",
    "for n, i in enumerate(scales[:-1]):\n",
    "    if i + 1 == scales[n+1]:\n",
    "        count_dict['a'] += 1\n",
    "    elif i - 1 == scales[n+1]:\n",
    "        count_dict['d'] += 1\n",
    "    else:\n",
    "        count_dict['m'] += 1\n",
    "        \n",
    "if count_dict['a'] == 7:\n",
    "    print('ascending')\n",
    "elif count_dict['d'] == 7:\n",
    "    print('descending')\n",
    "else:\n",
    "    print('mixed')"
   ]
  },
  {
   "cell_type": "code",
   "execution_count": null,
   "metadata": {},
   "outputs": [],
   "source": []
  },
  {
   "cell_type": "markdown",
   "metadata": {},
   "source": [
    "# OX Problems"
   ]
  },
  {
   "cell_type": "code",
   "execution_count": 26,
   "metadata": {
    "scrolled": true
   },
   "outputs": [
    {
     "name": "stdout",
     "output_type": "stream",
     "text": [
      "5\n",
      "OOXXOXXOOO\n",
      "OOXXOOXXOO\n",
      "OXOXOXOXOXOXOX\n",
      "OOOOOOOOOO\n",
      "OOOOXOOOOXOOOOX\n",
      "10\n",
      "9\n",
      "7\n",
      "55\n",
      "30\n"
     ]
    }
   ],
   "source": [
    "cases = []\n",
    "count_case = int(input())\n",
    "for i in range(count_case):\n",
    "    cases.append(input())\n",
    "    \n",
    "for case in cases:\n",
    "    score_dict = {}\n",
    "    j = 1\n",
    "    score_dict[j] = 0\n",
    "    for n, i in enumerate(case):\n",
    "        if (i == 'O') and (case[n-1] == 'X'):\n",
    "            score_dict[j] = 1\n",
    "        elif i == 'O':\n",
    "            score_dict[j] += 1\n",
    "        else:\n",
    "            j += 1\n",
    "            \n",
    "    total = 0\n",
    "    for v in score_dict.values():\n",
    "        for e in range(1, v+1):\n",
    "            total += e\n",
    "\n",
    "    print(total)"
   ]
  },
  {
   "cell_type": "markdown",
   "metadata": {},
   "source": [
    "# Count Numbers"
   ]
  },
  {
   "cell_type": "code",
   "execution_count": 15,
   "metadata": {},
   "outputs": [
    {
     "name": "stdout",
     "output_type": "stream",
     "text": [
      "150\n",
      "266\n",
      "427\n",
      "3\n",
      "1\n",
      "0\n",
      "2\n",
      "0\n",
      "0\n",
      "0\n",
      "2\n",
      "0\n",
      "0\n"
     ]
    }
   ],
   "source": [
    "numbers = []\n",
    "for i in range(3):\n",
    "    numbers.append(int(input()))\n",
    "    \n",
    "mult = 1\n",
    "for num in numbers:\n",
    "    mult *= num\n",
    "str_mult = str(mult)\n",
    "\n",
    "num_dict = {}\n",
    "for i in range(10):\n",
    "    num_dict[i] = 0\n",
    "    \n",
    "for ch in str_mult:\n",
    "    num_dict[int(ch)] += 1\n",
    "    \n",
    "for v in num_dict.values():\n",
    "    print(v)"
   ]
  },
  {
   "cell_type": "markdown",
   "metadata": {},
   "source": [
    "# Count words"
   ]
  },
  {
   "cell_type": "code",
   "execution_count": null,
   "metadata": {},
   "outputs": [],
   "source": [
    "phrase = input()\n",
    "li = phrase.split(' ')\n",
    "count = 0\n",
    "for i in li:\n",
    "    if i != '':\n",
    "        count +=1\n",
    "print(count)"
   ]
  },
  {
   "cell_type": "markdown",
   "metadata": {},
   "source": [
    "# Average Scores"
   ]
  },
  {
   "cell_type": "code",
   "execution_count": null,
   "metadata": {},
   "outputs": [],
   "source": [
    "scores = []\n",
    "for i in range(5):\n",
    "    scores.append(input())\n",
    "scores = [int(score) for score in scores]\n",
    "for i, score in enumerate(scores):\n",
    "    if score < 40:\n",
    "        scores[i] = 40\n",
    "        \n",
    "print(int(sum(scores) / len(scores)))"
   ]
  }
 ],
 "metadata": {
  "kernelspec": {
   "display_name": "Python 3",
   "language": "python",
   "name": "python3"
  },
  "language_info": {
   "codemirror_mode": {
    "name": "ipython",
    "version": 3
   },
   "file_extension": ".py",
   "mimetype": "text/x-python",
   "name": "python",
   "nbconvert_exporter": "python",
   "pygments_lexer": "ipython3",
   "version": "3.6.5"
  }
 },
 "nbformat": 4,
 "nbformat_minor": 2
}
