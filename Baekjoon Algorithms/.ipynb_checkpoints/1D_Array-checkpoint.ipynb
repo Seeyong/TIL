{
 "cells": [
  {
   "cell_type": "markdown",
   "metadata": {},
   "source": [
    "# Count words"
   ]
  },
  {
   "cell_type": "code",
   "execution_count": null,
   "metadata": {},
   "outputs": [],
   "source": [
    "phrase = input()\n",
    "li = phrase.split(' ')\n",
    "count = 0\n",
    "for i in li:\n",
    "    if i != '':\n",
    "        count +=1\n",
    "print(count)"
   ]
  },
  {
   "cell_type": "markdown",
   "metadata": {},
   "source": [
    "# Average Scores"
   ]
  },
  {
   "cell_type": "code",
   "execution_count": null,
   "metadata": {},
   "outputs": [],
   "source": [
    "scores = []\n",
    "for i in range(5):\n",
    "    scores.append(input())\n",
    "scores = [int(score) for score in scores]\n",
    "for i, score in enumerate(scores):\n",
    "    if score < 40:\n",
    "        scores[i] = 40\n",
    "        \n",
    "print(int(sum(scores) / len(scores)))"
   ]
  }
 ],
 "metadata": {
  "kernelspec": {
   "display_name": "Python 3",
   "language": "python",
   "name": "python3"
  },
  "language_info": {
   "codemirror_mode": {
    "name": "ipython",
    "version": 3
   },
   "file_extension": ".py",
   "mimetype": "text/x-python",
   "name": "python",
   "nbconvert_exporter": "python",
   "pygments_lexer": "ipython3",
   "version": "3.6.5"
  }
 },
 "nbformat": 4,
 "nbformat_minor": 2
}
