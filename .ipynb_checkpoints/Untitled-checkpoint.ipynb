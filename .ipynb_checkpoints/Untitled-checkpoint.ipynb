{
 "cells": [
  {
   "cell_type": "markdown",
   "metadata": {},
   "source": [
    "# M1. Shortest Path"
   ]
  },
  {
   "cell_type": "code",
   "execution_count": 17,
   "metadata": {},
   "outputs": [
    {
     "name": "stdout",
     "output_type": "stream",
     "text": [
      "{19.6619037896906: (0, 10), 18.87891157469052: (1, 9), 18.246211251235323: (2, 8), 17.763548202610416: (3, 7), 17.429553284237727: (4, 6), 17.244230807963255: (5, 5), 17.21110255092798: (6, 4), 17.33834974523402: (7, 3), 17.63826381932152: (8, 2), 18.124357109090514: (9, 1)}\n",
      "17.21110255092798 (6, 4)\n"
     ]
    }
   ],
   "source": [
    "# 1차 단계(대략적인 최소값 pair 찾기)\n",
    "# 수직터치해야 하는 수평선상 임의의 점 C와 점A에서 수평선으로 수선의 발을 접하는 점 A'를 꼭짓점으로 하는 ACA' 삼각형 상정\n",
    "# 점C와 점B에서 수평선으로 수선의 발을 접하는 점 B'를 꼭짓점으로 하는 BCB' 삼각형을 상정했을 때,\n",
    "# 수평선을 임의로 나눠 선A'C, 선CB'의 길이를 구한 후 피타고라스 정리를 사용해 선AC, 선CB를 각각 구한 후 가장 최솟값이 되는 합을 구한다.\n",
    "# 0 ~ 10 사이의 정수로 먼저 케이스를 대입해보며 최소값에 근사한 값을 나타내는 점 C의 위치를 가늠한다.\n",
    "\n",
    "# A'C 사이의 거리를 변수 X라고 했을 때,\n",
    "X = range(0, 10) # 0 ~ 10 사이의 거리 케이스\n",
    "distances = {} # 최종 ACB 거리를 key로, (A'C, CB') 페어를 value로 하는 딕셔너리\n",
    "\n",
    "for x in X:\n",
    "    y = (10-x) # CB' 사이의 거리를 변수 y라고 했을 때,\n",
    "    dist = ((8**2) + (x**2))**(0.5) + ((6**2) + (y**2))**(0.5) # 피타고라스 정리를 사용한 최종 길이를 변수 dist라고 한다.\n",
    "    distances[dist] = (x, y) # distances 딕셔너리에 값을 넣는다.\n",
    "    \n",
    "print(distances)\n",
    "min_dist = min(distances.keys()) # 가장 최솟값을 가지는 최종 길이\n",
    "print(min_dist, distances[min_dist]) # 최소 길이 값, (A'C, CB') 페어"
   ]
  },
  {
   "cell_type": "code",
   "execution_count": 16,
   "metadata": {},
   "outputs": [
    {
     "name": "stdout",
     "output_type": "stream",
     "text": [
      "17.204650534085253\n",
      "5.7142857142857135 4.285714285714286\n"
     ]
    }
   ],
   "source": [
    "# 2차 단계(상세 값 찾기)\n",
    "# 선 AA', 선 BB'의 비율이 8:6의 비율이며,\n",
    "# 1차 단계에서 도출한 정수 범위 한정 최솟값 pair도 이와 비슷한 비율인 점을 토대로 유추해볼 때,\n",
    "# 최소 길이를 도출하는 (A'C, CB') 페어역시 8:6의 비율로 구성되어 있는 경우 상정\n",
    "\n",
    "x = 10*(8/14) # 수평선 10m 중 8의 비율을 가지는 A'C의 길이\n",
    "y = 10*(6/14) # 수평선 10m 중 6의 비율을 가지는 CB'의 길이\n",
    "\n",
    "x_ = ((8**2) + x**2)**(0.5) # 피타고라스 정리를 사용한 AC 길이\n",
    "y_ = ((6**2) + y**2)**(0.5) # 피타고라스 정리를 사용한 CB 길이\n",
    "\n",
    "print(x_ + y_) # 최종적으로 도출한 길이 최솟값\n",
    "print(x, y) # 최종길이 최솟값을 도출하는 (A'C, CB') 페어"
   ]
  },
  {
   "cell_type": "code",
   "execution_count": null,
   "metadata": {},
   "outputs": [],
   "source": []
  }
 ],
 "metadata": {
  "kernelspec": {
   "display_name": "Python 3",
   "language": "python",
   "name": "python3"
  },
  "language_info": {
   "codemirror_mode": {
    "name": "ipython",
    "version": 3
   },
   "file_extension": ".py",
   "mimetype": "text/x-python",
   "name": "python",
   "nbconvert_exporter": "python",
   "pygments_lexer": "ipython3",
   "version": "3.6.5"
  }
 },
 "nbformat": 4,
 "nbformat_minor": 2
}
