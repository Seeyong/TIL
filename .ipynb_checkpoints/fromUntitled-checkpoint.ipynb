{
 "cells": [
  {
   "cell_type": "markdown",
   "metadata": {},
   "source": [
    "# P1. Regression"
   ]
  },
  {
   "cell_type": "code",
   "execution_count": null,
   "metadata": {},
   "outputs": [],
   "source": []
  },
  {
   "cell_type": "code",
   "execution_count": null,
   "metadata": {},
   "outputs": [],
   "source": []
  },
  {
   "cell_type": "code",
   "execution_count": null,
   "metadata": {},
   "outputs": [],
   "source": []
  },
  {
   "cell_type": "code",
   "execution_count": null,
   "metadata": {},
   "outputs": [],
   "source": []
  },
  {
   "cell_type": "markdown",
   "metadata": {},
   "source": [
    "# M1. Shortest Path"
   ]
  },
  {
   "cell_type": "code",
   "execution_count": 1,
   "metadata": {},
   "outputs": [
    {
     "name": "stdout",
     "output_type": "stream",
     "text": [
      "{19.6619037896906: (0, 10), 18.87891157469052: (1, 9), 18.246211251235323: (2, 8), 17.763548202610416: (3, 7), 17.429553284237727: (4, 6), 17.244230807963255: (5, 5), 17.21110255092798: (6, 4), 17.33834974523402: (7, 3), 17.63826381932152: (8, 2), 18.124357109090514: (9, 1)}\n",
      "17.21110255092798 (6, 4)\n"
     ]
    }
   ],
   "source": [
    "# 1차 단계(대략적인 최소값 pair 찾기)\n",
    "# 수직터치해야 하는 수평선상 임의의 점 C와 점A에서 수평선으로 수선의 발을 접하는 점 A'를 꼭짓점으로 하는 ACA' 삼각형 상정\n",
    "# 점C와 점B에서 수평선으로 수선의 발을 접하는 점 B'를 꼭짓점으로 하는 BCB' 삼각형을 상정했을 때,\n",
    "# 수평선을 임의로 나눠 선A'C, 선CB'의 길이를 구한 후 피타고라스 정리를 사용해 선AC, 선CB를 각각 구한 후 가장 최솟값이 되는 합을 구한다.\n",
    "# 0 ~ 10 사이의 정수로 먼저 케이스를 대입해보며 최소값에 근사한 값을 나타내는 점 C의 위치를 가늠한다.\n",
    "\n",
    "# A'C 사이의 거리를 변수 X라고 했을 때,\n",
    "X = range(0, 10) # 0 ~ 10 사이의 거리 케이스\n",
    "distances = {} # 최종 ACB 거리를 key로, (A'C, CB') 페어를 value로 하는 딕셔너리\n",
    "\n",
    "for x in X:\n",
    "    y = (10-x) # CB' 사이의 거리를 변수 y라고 했을 때,\n",
    "    dist = ((8**2) + (x**2))**(0.5) + ((6**2) + (y**2))**(0.5) # 피타고라스 정리를 사용한 최종 길이를 변수 dist라고 한다.\n",
    "    distances[dist] = (x, y) # distances 딕셔너리에 값을 넣는다.\n",
    "    \n",
    "print(distances)\n",
    "min_dist = min(distances.keys()) # 가장 최솟값을 가지는 최종 길이\n",
    "print(min_dist, distances[min_dist]) # 최소 길이 값, (A'C, CB') 페어"
   ]
  },
  {
   "cell_type": "code",
   "execution_count": 2,
   "metadata": {},
   "outputs": [
    {
     "name": "stdout",
     "output_type": "stream",
     "text": [
      "17.204650534085253\n",
      "5.7142857142857135 4.285714285714286\n"
     ]
    }
   ],
   "source": [
    "# 2차 단계(상세 값 찾기)\n",
    "# 선 AA', 선 BB'의 비율이 8:6의 비율이며,\n",
    "# 1차 단계에서 도출한 정수 범위 한정 최솟값 pair도 이와 비슷한 비율인 점을 토대로 유추해볼 때,\n",
    "# 최소 길이를 도출하는 (A'C, CB') 페어역시 8:6의 비율로 구성되어 있는 경우 상정\n",
    "\n",
    "x = 10*(8/14) # 수평선 10m 중 8의 비율을 가지는 A'C의 길이\n",
    "y = 10*(6/14) # 수평선 10m 중 6의 비율을 가지는 CB'의 길이\n",
    "\n",
    "x_ = ((8**2) + x**2)**(0.5) # 피타고라스 정리를 사용한 AC 길이\n",
    "y_ = ((6**2) + y**2)**(0.5) # 피타고라스 정리를 사용한 CB 길이\n",
    "\n",
    "print(x_ + y_) # 최종적으로 도출한 길이 최솟값\n",
    "print(x, y) # 최종길이 최솟값을 도출하는 (A'C, CB') 페어"
   ]
  },
  {
   "cell_type": "markdown",
   "metadata": {},
   "source": [
    "# M5. Poker Game"
   ]
  },
  {
   "cell_type": "code",
   "execution_count": 34,
   "metadata": {},
   "outputs": [
    {
     "data": {
      "text/plain": [
       "[(10, 1),\n",
       " (9, 10),\n",
       " (8, 9),\n",
       " (7, 8),\n",
       " (6, 7),\n",
       " (5, 6),\n",
       " (4, 5),\n",
       " (3, 4),\n",
       " (2, 3),\n",
       " (1, 2)]"
      ]
     },
     "execution_count": 34,
     "metadata": {},
     "output_type": "execute_result"
    }
   ],
   "source": [
    "count_possible = 20 * 19\n",
    "num_possible = []\n",
    "for i in range(1, 11):\n",
    "    num_possible.append(i)\n",
    "num_possible = num_possible[::-1]\n",
    "\n",
    "# consecutive numbers list\n",
    "consec = []\n",
    "for n, i in enumerate(num_possible):\n",
    "    pair = (num_possible[n], num_possible[n-1])\n",
    "    consec.append(pair)\n",
    "    \n",
    "consec"
   ]
  },
  {
   "cell_type": "code",
   "execution_count": 36,
   "metadata": {},
   "outputs": [
    {
     "data": {
      "text/plain": [
       "[(10, 10),\n",
       " (9, 9),\n",
       " (8, 8),\n",
       " (7, 7),\n",
       " (6, 6),\n",
       " (5, 5),\n",
       " (4, 4),\n",
       " (3, 3),\n",
       " (2, 2),\n",
       " (1, 1)]"
      ]
     },
     "execution_count": 36,
     "metadata": {},
     "output_type": "execute_result"
    }
   ],
   "source": [
    "# pairs\n",
    "pairs = []\n",
    "for i in num_possible:\n",
    "    pair = (i, i)\n",
    "    pairs.append(pair)\n",
    "    \n",
    "pairs"
   ]
  },
  {
   "cell_type": "code",
   "execution_count": 44,
   "metadata": {},
   "outputs": [
    {
     "data": {
      "text/plain": [
       "[(10, 8),\n",
       " (10, 7),\n",
       " (10, 6),\n",
       " (10, 5),\n",
       " (10, 4),\n",
       " (10, 3),\n",
       " (10, 2),\n",
       " (9, 7),\n",
       " (9, 6),\n",
       " (9, 5),\n",
       " (9, 4),\n",
       " (9, 3),\n",
       " (9, 2),\n",
       " (9, 1),\n",
       " (8, 10),\n",
       " (8, 6),\n",
       " (8, 5),\n",
       " (8, 4),\n",
       " (8, 3),\n",
       " (8, 2),\n",
       " (8, 1),\n",
       " (7, 10),\n",
       " (7, 9),\n",
       " (7, 5),\n",
       " (7, 4),\n",
       " (7, 3),\n",
       " (7, 2),\n",
       " (7, 1),\n",
       " (6, 10),\n",
       " (6, 9),\n",
       " (6, 8),\n",
       " (6, 4),\n",
       " (6, 3),\n",
       " (6, 2),\n",
       " (6, 1),\n",
       " (5, 10),\n",
       " (5, 9),\n",
       " (5, 8),\n",
       " (5, 7),\n",
       " (5, 3),\n",
       " (5, 2),\n",
       " (5, 1),\n",
       " (4, 10),\n",
       " (4, 9),\n",
       " (4, 8),\n",
       " (4, 7),\n",
       " (4, 6),\n",
       " (4, 2),\n",
       " (4, 1),\n",
       " (3, 10),\n",
       " (3, 9),\n",
       " (3, 8),\n",
       " (3, 7),\n",
       " (3, 6),\n",
       " (3, 5),\n",
       " (3, 1),\n",
       " (2, 10),\n",
       " (2, 9),\n",
       " (2, 8),\n",
       " (2, 7),\n",
       " (2, 6),\n",
       " (2, 5),\n",
       " (2, 4),\n",
       " (1, 9),\n",
       " (1, 8),\n",
       " (1, 7),\n",
       " (1, 6),\n",
       " (1, 5),\n",
       " (1, 4),\n",
       " (1, 3)]"
      ]
     },
     "execution_count": 44,
     "metadata": {},
     "output_type": "execute_result"
    }
   ],
   "source": [
    "# high numbers\n",
    "highs = []\n",
    "for i in num_possible:\n",
    "    for j in num_possible:\n",
    "        pair = (i, j)\n",
    "        if (pair not in consec) and (pair not in pairs) and (pair[::-1] not in consec) and (pair[::-1] not in pairs):\n",
    "            highs.append(pair)\n",
    "            \n",
    "highs"
   ]
  },
  {
   "cell_type": "code",
   "execution_count": 45,
   "metadata": {},
   "outputs": [],
   "source": [
    "total_outcome = consec + pairs + highs"
   ]
  },
  {
   "cell_type": "code",
   "execution_count": 48,
   "metadata": {},
   "outputs": [
    {
     "data": {
      "text/plain": [
       "[(10, 1),\n",
       " (9, 10),\n",
       " (8, 9),\n",
       " (7, 8),\n",
       " (6, 7),\n",
       " (5, 6),\n",
       " (4, 5),\n",
       " (3, 4),\n",
       " (2, 3),\n",
       " (1, 2),\n",
       " (10, 10),\n",
       " (9, 9),\n",
       " (8, 8),\n",
       " (7, 7),\n",
       " (6, 6),\n",
       " (5, 5),\n",
       " (4, 4),\n",
       " (3, 3),\n",
       " (2, 2),\n",
       " (1, 1),\n",
       " (10, 8),\n",
       " (10, 7),\n",
       " (10, 6),\n",
       " (10, 5),\n",
       " (10, 4),\n",
       " (10, 3),\n",
       " (10, 2),\n",
       " (9, 7),\n",
       " (9, 6),\n",
       " (9, 5),\n",
       " (9, 4),\n",
       " (9, 3),\n",
       " (9, 2),\n",
       " (9, 1),\n",
       " (8, 10),\n",
       " (8, 6),\n",
       " (8, 5),\n",
       " (8, 4),\n",
       " (8, 3),\n",
       " (8, 2),\n",
       " (8, 1),\n",
       " (7, 10),\n",
       " (7, 9),\n",
       " (7, 5),\n",
       " (7, 4),\n",
       " (7, 3),\n",
       " (7, 2),\n",
       " (7, 1),\n",
       " (6, 10),\n",
       " (6, 9),\n",
       " (6, 8),\n",
       " (6, 4),\n",
       " (6, 3),\n",
       " (6, 2),\n",
       " (6, 1),\n",
       " (5, 10),\n",
       " (5, 9),\n",
       " (5, 8),\n",
       " (5, 7),\n",
       " (5, 3),\n",
       " (5, 2),\n",
       " (5, 1),\n",
       " (4, 10),\n",
       " (4, 9),\n",
       " (4, 8),\n",
       " (4, 7),\n",
       " (4, 6),\n",
       " (4, 2),\n",
       " (4, 1),\n",
       " (3, 10),\n",
       " (3, 9),\n",
       " (3, 8),\n",
       " (3, 7),\n",
       " (3, 6),\n",
       " (3, 5),\n",
       " (3, 1),\n",
       " (2, 10),\n",
       " (2, 9),\n",
       " (2, 8),\n",
       " (2, 7),\n",
       " (2, 6),\n",
       " (2, 5),\n",
       " (2, 4),\n",
       " (1, 9),\n",
       " (1, 8),\n",
       " (1, 7),\n",
       " (1, 6),\n",
       " (1, 5),\n",
       " (1, 4),\n",
       " (1, 3)]"
      ]
     },
     "execution_count": 48,
     "metadata": {},
     "output_type": "execute_result"
    }
   ],
   "source": [
    "total_outcome"
   ]
  },
  {
   "cell_type": "markdown",
   "metadata": {},
   "source": [
    "# E1. Discounted Cash Flow problem"
   ]
  },
  {
   "cell_type": "code",
   "execution_count": 54,
   "metadata": {},
   "outputs": [
    {
     "name": "stdout",
     "output_type": "stream",
     "text": [
      "47907.71714285714\n"
     ]
    }
   ],
   "source": [
    "rent_y1 = 10000.00 # 1년 뒤 첫 월세\n",
    "total_year = 5 # 총 계약 기간\n",
    "interest_rate = 0.03 # 2년 뒤 이자율\n",
    "inflation_rate = 0.02 # 2년 위 물가상승률\n",
    "\n",
    "# 2년마다 조정되는 월세 계산\n",
    "rent_y2 = rent_y1 * ((1 + inflation_rate)**2)\n",
    "rent_y3 = rent_y2\n",
    "rent_y4 = rent_y3 * ((1 + inflation_rate)**2)\n",
    "rent_y5 = rent_y4\n",
    "rents = [rent_y1, rent_y2, rent_y3, rent_y4, rent_y5]\n",
    "\n",
    "# 단리 기반 현재가치 계산(PV = CFn / (1 + nr))\n",
    "# 2년 뒤부터 이자율이 3%이므로 1년 뒤는 이자율 0%(1년 뒤 미래가치는 현재가치와 동일)\n",
    "# 따라서 2년 뒤부터 5년 뒤까지의 4번의 현금흐름에 대해 단리 기반 현재가치 계산 후 1년 뒤 현재가치 합산\n",
    "pv_after_y2 = sum(rents[1:]) / (1+(4*interest_rate))\n",
    "pv = pv_after_y2 + rent_y1\n",
    "print(pv)"
   ]
  },
  {
   "cell_type": "markdown",
   "metadata": {},
   "source": [
    "# E2. Term Structure of Interest Rates"
   ]
  },
  {
   "cell_type": "markdown",
   "metadata": {},
   "source": [
    "1) If Term structure of interest rates is upward sloping, fill this relationship (YTM, Spot Rate,\n",
    "Forward Rate)"
   ]
  },
  {
   "cell_type": "markdown",
   "metadata": {},
   "source": [
    "먼저 채권에 붙어있는 표면이자율인 Par rate을 사용해 Spot Rate를 도출할 수 있다. n년간(6개월마다 이자를 지급할 경우 0.5년마다) n * 2번 (원금 x Par rate)만큼 이자를 지급할 경우, 해당 이자 지급일 별 cash flow(만기 때는 원금 포함)를 '만기까지 이자 지급이 없는 할인채'로 가정해 현재가지로 할인할 수 있다. 이때 사용하는 할인율이 Spot rate다.\n",
    "\n",
    "YTM은 채권에서 발생하는 미래 현금흐름을 현재가치로 할인했을 때 현재 채권의 가격과 일치시켜주는 할인율이다. 우상향하는 Yield curve에서는 Spot rate가 YTM보다 크다.\n",
    "\n",
    "Forward rate는 Spot rate에 내재되어 있는 미래 이자율이다. 구체적으로는 longterm 채권을 사서 만기까지 보유했을 때의 수익률과 shorterm 채권을 사고 roll-over했을 때의 수익률을 동일하게 만들어주는 이자율이 Forward rate다. 우상향하는 Yield curve에서는 Forward rate가 Spot rate보다 크다."
   ]
  },
  {
   "cell_type": "markdown",
   "metadata": {},
   "source": [
    "2) I have a treasure bond that maturity is 3Y, face value 1000, coupon rate 5%, annual coupon Calculate bond price"
   ]
  },
  {
   "cell_type": "markdown",
   "metadata": {},
   "source": [
    "1000 = 1025 / (1 + x)"
   ]
  },
  {
   "cell_type": "code",
   "execution_count": 62,
   "metadata": {},
   "outputs": [
    {
     "name": "stdout",
     "output_type": "stream",
     "text": [
      "1019.5588342352402\n"
     ]
    }
   ],
   "source": [
    "face_value = 1000\n",
    "coupon_rate = 0.05\n",
    "coupon = face_value * coupon_rate / 2\n",
    "\n",
    "# case 1\n",
    "rates = 0.03\n",
    "year = 1\n",
    "n = year * 2\n",
    "\n",
    "total_pv = 0\n",
    "for i in range(1, n+1):\n",
    "    pv = (coupon / ((1 + (rates/2))**i))\n",
    "    total_pv += pv\n",
    "total_pv += (face_value / ((1 + (rates/2))**n))\n",
    "print(total_pv)"
   ]
  },
  {
   "cell_type": "code",
   "execution_count": 63,
   "metadata": {},
   "outputs": [
    {
     "name": "stdout",
     "output_type": "stream",
     "text": [
      "1019.0386434933715\n"
     ]
    }
   ],
   "source": [
    "# case 2\n",
    "rates = 0.04\n",
    "year = 2\n",
    "n = year * 2\n",
    "\n",
    "total_pv = 0\n",
    "for i in range(1, n+1):\n",
    "    pv = (coupon / ((1 + (rates/2))**i))\n",
    "    total_pv += pv\n",
    "total_pv += (face_value / ((1 + (rates/2))**n))\n",
    "print(total_pv)"
   ]
  },
  {
   "cell_type": "code",
   "execution_count": 64,
   "metadata": {},
   "outputs": [
    {
     "name": "stdout",
     "output_type": "stream",
     "text": [
      "1000.0000000000005\n"
     ]
    }
   ],
   "source": [
    "# case 3\n",
    "rates = 0.05\n",
    "year = 3\n",
    "n = year * 2\n",
    "\n",
    "total_pv = 0\n",
    "for i in range(1, n+1):\n",
    "    pv = (coupon / ((1 + (rates/2))**i))\n",
    "    total_pv += pv\n",
    "total_pv += (face_value / ((1 + (rates/2))**n))\n",
    "print(total_pv)"
   ]
  },
  {
   "cell_type": "markdown",
   "metadata": {},
   "source": [
    "# C3. MDD"
   ]
  },
  {
   "cell_type": "code",
   "execution_count": 1,
   "metadata": {},
   "outputs": [],
   "source": [
    "t_price_dict = {0:10, 1:11, 2:12, 3:13, 4:12, 5:10, \n",
    "                6:9, 7:13, 8:14, 9:15, 10:18, 11:19,\n",
    "               12:20, 13:22, 14:23, 15:20, 16:17, 17:16,\n",
    "                18:19, 19:24, 20:23}\n",
    "\n",
    "price_list = list(t_price_dict.values())"
   ]
  },
  {
   "cell_type": "code",
   "execution_count": 13,
   "metadata": {},
   "outputs": [
    {
     "name": "stdout",
     "output_type": "stream",
     "text": [
      "[3, 14]\n"
     ]
    }
   ],
   "source": [
    "mdd_list = []\n",
    "\n",
    "for n, p in enumerate(price_list[:-1]):\n",
    "     if (price_list[n-1]) > p and (p > price_list[n+1]):\n",
    "            mdd_list.append(n-1)\n",
    "\n",
    "            \n",
    "for n, l in enumerate(mdd_list):\n",
    "    if l-1 == mdd_list[n-1]:\n",
    "        del mdd_list[n]\n",
    "        \n",
    "print(mdd_list)\n",
    "recover_n = []"
   ]
  },
  {
   "cell_type": "code",
   "execution_count": 16,
   "metadata": {},
   "outputs": [],
   "source": [
    "\n",
    "n_start = mdd_list.pop(0)\n",
    "for n, p in enumerate(price_list):\n",
    "    if (n > n_start) and (price_list[n_start] <= p):\n",
    "        recover_n.append(n)\n",
    "        break"
   ]
  },
  {
   "cell_type": "code",
   "execution_count": 17,
   "metadata": {},
   "outputs": [
    {
     "data": {
      "text/plain": [
       "[7, 19]"
      ]
     },
     "execution_count": 17,
     "metadata": {},
     "output_type": "execute_result"
    }
   ],
   "source": [
    "recover_n"
   ]
  },
  {
   "cell_type": "code",
   "execution_count": null,
   "metadata": {},
   "outputs": [],
   "source": []
  }
 ],
 "metadata": {
  "kernelspec": {
   "display_name": "Python 3",
   "language": "python",
   "name": "python3"
  },
  "language_info": {
   "codemirror_mode": {
    "name": "ipython",
    "version": 3
   },
   "file_extension": ".py",
   "mimetype": "text/x-python",
   "name": "python",
   "nbconvert_exporter": "python",
   "pygments_lexer": "ipython3",
   "version": "3.6.5"
  }
 },
 "nbformat": 4,
 "nbformat_minor": 2
}
