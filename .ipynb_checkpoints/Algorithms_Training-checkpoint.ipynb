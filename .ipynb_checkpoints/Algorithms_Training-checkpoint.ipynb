{
 "cells": [
  {
   "cell_type": "markdown",
   "metadata": {},
   "source": [
    "# Traverse and Search Algorithms"
   ]
  },
  {
   "cell_type": "markdown",
   "metadata": {},
   "source": [
    "## 1. Breadth Frist Search"
   ]
  },
  {
   "cell_type": "markdown",
   "metadata": {},
   "source": [
    "### references"
   ]
  },
  {
   "cell_type": "markdown",
   "metadata": {},
   "source": [
    "https://blog.ilkyu.kr/entry/%EC%95%8C%EA%B3%A0%EB%A6%AC%EC%A6%98-%EB%84%88%EB%B9%84-%EC%9A%B0%EC%84%A0-%ED%83%90%EC%83%89Breadth-First-Search%EA%B3%BC-%EA%B5%AC%ED%98%84-%EB%B0%A9%EB%B2%95"
   ]
  },
  {
   "cell_type": "code",
   "execution_count": 5,
   "metadata": {},
   "outputs": [],
   "source": [
    "korea = {'세종': set(['서울', '강릉', '대구', '광주']),\n",
    "         '서울': set(['평양', '인천', '세종']),\n",
    "         '강릉': set(['독도', '세종']),\n",
    "         '광주': set(['세종', '여수']),\n",
    "         '대구': set(['세종', '울산']),\n",
    "         '평양': set(['서울', ]),\n",
    "         '인천': set(['서울', ]),\n",
    "         '독도': set(['강릉', ]),\n",
    "         '여수': set(['광주', '부산']),\n",
    "         '울산': set(['대구', '부산']),\n",
    "         '부산': set(['여수', '울산']),\n",
    "         }"
   ]
  },
  {
   "cell_type": "code",
   "execution_count": 2,
   "metadata": {},
   "outputs": [],
   "source": [
    "def bfs(graph, root):\n",
    "    visited = [] # 방문한 곳을 기록. 최종적으로 return\n",
    "    queue = [root] # 유동적인 queue에 시작점을 줄세움\n",
    "    \n",
    "    while queue: # queue에 데이터가 없을 때까지 계속 탐색\n",
    "        vertex = queue.pop(0) # 매회 queue 맨 앞의 원소를 방문할 꼭짓점으로 설정. pop으로 queue에서 제거\n",
    "        \n",
    "        if vertex not in visited: # 꼭짓점이 방문된 적이 없다면\n",
    "            visited.append(vertex) # 방문 기록에 추가\n",
    "            for node in graph[vertex]: # 해당 꼭짓점의 각 노드들 중\n",
    "                if node not in visited: # 방문 기록에 없다면\n",
    "                    queue.append(node) # queue에 줄세움\n",
    "    \n",
    "    return visited # 최종 return\n"
   ]
  },
  {
   "cell_type": "code",
   "execution_count": 3,
   "metadata": {},
   "outputs": [
    {
     "name": "stdout",
     "output_type": "stream",
     "text": [
      "['세종', '서울', '대구', '광주', '강릉', '인천', '평양', '울산', '여수', '독도', '부산']\n"
     ]
    }
   ],
   "source": [
    "print(bfs(korea, '세종'))"
   ]
  },
  {
   "cell_type": "markdown",
   "metadata": {},
   "source": [
    "## 1-1. BFS Path finder"
   ]
  },
  {
   "cell_type": "code",
   "execution_count": 25,
   "metadata": {},
   "outputs": [],
   "source": [
    "def bfs_paths(graph, start, end, result=[]):\n",
    "    queue = [(start, [start])]\n",
    "    \n",
    "    while queue:\n",
    "        n, path = queue.pop(0)\n",
    "        if n == end:\n",
    "            result.append(path)\n",
    "        else:\n",
    "            for m in graph[n] - set(path):\n",
    "                queue.append((m, path + [m]))\n",
    "    return result"
   ]
  },
  {
   "cell_type": "code",
   "execution_count": 26,
   "metadata": {},
   "outputs": [
    {
     "data": {
      "text/plain": [
       "[['평양', '서울', '세종', '광주', '여수', '부산'], ['평양', '서울', '세종', '대구', '울산', '부산']]"
      ]
     },
     "execution_count": 26,
     "metadata": {},
     "output_type": "execute_result"
    }
   ],
   "source": [
    "bfs_paths(korea, '평양', '부산')"
   ]
  },
  {
   "cell_type": "code",
   "execution_count": 30,
   "metadata": {},
   "outputs": [
    {
     "data": {
      "text/plain": [
       "{'대구', '서울'}"
      ]
     },
     "execution_count": 30,
     "metadata": {},
     "output_type": "execute_result"
    }
   ],
   "source": [
    "korea['세종'] - set(['강릉', '광주'])"
   ]
  },
  {
   "cell_type": "code",
   "execution_count": 38,
   "metadata": {},
   "outputs": [
    {
     "data": {
      "text/plain": [
       "{'강릉', '광주', '대구'}"
      ]
     },
     "execution_count": 38,
     "metadata": {},
     "output_type": "execute_result"
    }
   ],
   "source": [
    "korea['세종'] - set(['서울'])"
   ]
  },
  {
   "cell_type": "code",
   "execution_count": null,
   "metadata": {},
   "outputs": [],
   "source": []
  }
 ],
 "metadata": {
  "kernelspec": {
   "display_name": "Python 3",
   "language": "python",
   "name": "python3"
  },
  "language_info": {
   "codemirror_mode": {
    "name": "ipython",
    "version": 3
   },
   "file_extension": ".py",
   "mimetype": "text/x-python",
   "name": "python",
   "nbconvert_exporter": "python",
   "pygments_lexer": "ipython3",
   "version": "3.6.5"
  }
 },
 "nbformat": 4,
 "nbformat_minor": 2
}
