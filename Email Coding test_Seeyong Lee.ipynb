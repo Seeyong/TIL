{
 "cells": [
  {
   "cell_type": "markdown",
   "metadata": {},
   "source": [
    "# P1. Regression"
   ]
  },
  {
   "cell_type": "code",
   "execution_count": 205,
   "metadata": {},
   "outputs": [
    {
     "data": {
      "text/html": [
       "<div>\n",
       "<style scoped>\n",
       "    .dataframe tbody tr th:only-of-type {\n",
       "        vertical-align: middle;\n",
       "    }\n",
       "\n",
       "    .dataframe tbody tr th {\n",
       "        vertical-align: top;\n",
       "    }\n",
       "\n",
       "    .dataframe thead th {\n",
       "        text-align: right;\n",
       "    }\n",
       "</style>\n",
       "<table border=\"1\" class=\"dataframe\">\n",
       "  <thead>\n",
       "    <tr style=\"text-align: right;\">\n",
       "      <th></th>\n",
       "      <th>A</th>\n",
       "      <th>B</th>\n",
       "      <th>C</th>\n",
       "      <th>D</th>\n",
       "    </tr>\n",
       "  </thead>\n",
       "  <tbody>\n",
       "    <tr>\n",
       "      <th>0</th>\n",
       "      <td>1.385735</td>\n",
       "      <td>2.768262</td>\n",
       "      <td>144.080816</td>\n",
       "      <td>139.249071</td>\n",
       "    </tr>\n",
       "    <tr>\n",
       "      <th>1</th>\n",
       "      <td>1.003630</td>\n",
       "      <td>0.999884</td>\n",
       "      <td>0.642313</td>\n",
       "      <td>0.989770</td>\n",
       "    </tr>\n",
       "    <tr>\n",
       "      <th>2</th>\n",
       "      <td>1.242363</td>\n",
       "      <td>1.937306</td>\n",
       "      <td>28.660409</td>\n",
       "      <td>23.324634</td>\n",
       "    </tr>\n",
       "    <tr>\n",
       "      <th>3</th>\n",
       "      <td>1.128282</td>\n",
       "      <td>1.542643</td>\n",
       "      <td>27.225159</td>\n",
       "      <td>11.382374</td>\n",
       "    </tr>\n",
       "    <tr>\n",
       "      <th>4</th>\n",
       "      <td>0.913687</td>\n",
       "      <td>0.732714</td>\n",
       "      <td>0.188189</td>\n",
       "      <td>0.237336</td>\n",
       "    </tr>\n",
       "  </tbody>\n",
       "</table>\n",
       "</div>"
      ],
      "text/plain": [
       "          A         B           C           D\n",
       "0  1.385735  2.768262  144.080816  139.249071\n",
       "1  1.003630  0.999884    0.642313    0.989770\n",
       "2  1.242363  1.937306   28.660409   23.324634\n",
       "3  1.128282  1.542643   27.225159   11.382374\n",
       "4  0.913687  0.732714    0.188189    0.237336"
      ]
     },
     "execution_count": 205,
     "metadata": {},
     "output_type": "execute_result"
    }
   ],
   "source": [
    "import pandas as pd\n",
    "import numpy as np\n",
    "from sklearn import linear_model\n",
    "import matplotlib.pyplot as plt\n",
    "\n",
    "# data 읽어오기\n",
    "columns = ['A', 'B', 'C', 'D']\n",
    "df = pd.read_csv('P1 regression.csv', header=None)\n",
    "df.columns = columns\n",
    "df.head()"
   ]
  },
  {
   "cell_type": "code",
   "execution_count": 206,
   "metadata": {},
   "outputs": [
    {
     "data": {
      "text/html": [
       "<div>\n",
       "<style scoped>\n",
       "    .dataframe tbody tr th:only-of-type {\n",
       "        vertical-align: middle;\n",
       "    }\n",
       "\n",
       "    .dataframe tbody tr th {\n",
       "        vertical-align: top;\n",
       "    }\n",
       "\n",
       "    .dataframe thead th {\n",
       "        text-align: right;\n",
       "    }\n",
       "</style>\n",
       "<table border=\"1\" class=\"dataframe\">\n",
       "  <thead>\n",
       "    <tr style=\"text-align: right;\">\n",
       "      <th></th>\n",
       "      <th>A</th>\n",
       "      <th>B</th>\n",
       "      <th>C</th>\n",
       "      <th>D</th>\n",
       "    </tr>\n",
       "  </thead>\n",
       "  <tbody>\n",
       "    <tr>\n",
       "      <th>0</th>\n",
       "      <td>3.118012</td>\n",
       "      <td>4.269326</td>\n",
       "      <td>12.647311</td>\n",
       "      <td>1.610438</td>\n",
       "    </tr>\n",
       "    <tr>\n",
       "      <th>1</th>\n",
       "      <td>-0.327532</td>\n",
       "      <td>-0.431385</td>\n",
       "      <td>-0.415782</td>\n",
       "      <td>-0.154529</td>\n",
       "    </tr>\n",
       "    <tr>\n",
       "      <th>2</th>\n",
       "      <td>1.825184</td>\n",
       "      <td>2.060475</td>\n",
       "      <td>2.135855</td>\n",
       "      <td>0.130589</td>\n",
       "    </tr>\n",
       "    <tr>\n",
       "      <th>3</th>\n",
       "      <td>0.796483</td>\n",
       "      <td>1.011378</td>\n",
       "      <td>2.005145</td>\n",
       "      <td>-0.021861</td>\n",
       "    </tr>\n",
       "    <tr>\n",
       "      <th>4</th>\n",
       "      <td>-1.138574</td>\n",
       "      <td>-1.141578</td>\n",
       "      <td>-0.457140</td>\n",
       "      <td>-0.164135</td>\n",
       "    </tr>\n",
       "  </tbody>\n",
       "</table>\n",
       "</div>"
      ],
      "text/plain": [
       "          A         B          C         D\n",
       "0  3.118012  4.269326  12.647311  1.610438\n",
       "1 -0.327532 -0.431385  -0.415782 -0.154529\n",
       "2  1.825184  2.060475   2.135855  0.130589\n",
       "3  0.796483  1.011378   2.005145 -0.021861\n",
       "4 -1.138574 -1.141578  -0.457140 -0.164135"
      ]
     },
     "execution_count": 206,
     "metadata": {},
     "output_type": "execute_result"
    }
   ],
   "source": [
    "# data 정규화 작업\n",
    "df = (df - df.mean()) / df.std()\n",
    "\n",
    "df.head()"
   ]
  },
  {
   "cell_type": "code",
   "execution_count": 207,
   "metadata": {},
   "outputs": [
    {
     "name": "stdout",
     "output_type": "stream",
     "text": [
      "절편 =  2.506582105564225e-15\n",
      "기울기 =  [-0.46758639  0.5655295   0.22412999]\n"
     ]
    }
   ],
   "source": [
    "# 변수 구분하기\n",
    "X = df[['A', 'B', 'C']] # 세가지 독립변수 A, B, C\n",
    "y = df['D'] # 종속변수 D\n",
    "\n",
    "\n",
    "# linear regression 모델 선언\n",
    "regr = linear_model.LinearRegression()\n",
    "\n",
    "# regression 학습\n",
    "regr.fit(X, y)\n",
    "\n",
    "print('절편 = ', regr.intercept_)\n",
    "print('기울기 = ', regr.coef_)"
   ]
  },
  {
   "cell_type": "code",
   "execution_count": 208,
   "metadata": {},
   "outputs": [
    {
     "name": "stdout",
     "output_type": "stream",
     "text": [
      "Root mean squared error:  0.9424000492448669\n",
      "R2 score:  0.11099314032359531\n"
     ]
    }
   ],
   "source": [
    "prediction = regr.predict(X)\n",
    "\n",
    "# 모델 평가하기\n",
    "# mean squared error\n",
    "mse = np.sum((prediction - y)**2)\n",
    "# root mean squared error\n",
    "rmse = np.sqrt(mse/(len(y)))\n",
    "\n",
    "# sum of square of residuals\n",
    "ssr = np.sum((prediction - y)**2)\n",
    "#  total sum of squares\n",
    "sst = np.sum((y - np.mean(y))**2)\n",
    "# R2 score\n",
    "r2  = 1 - (ssr/sst)\n",
    "\n",
    "# printing values\n",
    "print('Root mean squared error: ', rmse)\n",
    "print('R2 score: ', r2)\n",
    "\n"
   ]
  },
  {
   "cell_type": "markdown",
   "metadata": {},
   "source": [
    "# P2. Growth - Sales/Earning"
   ]
  },
  {
   "cell_type": "markdown",
   "metadata": {},
   "source": [
    "### Sales Growth Formula"
   ]
  },
  {
   "cell_type": "markdown",
   "metadata": {},
   "source": [
    "매출액의 과대 또는 과소계상 효과를 제거하고 정상 매출 활동으로 벌어들인 순매출을 산정하기 위해 매출채권(t, t-1)과 선수금(t, t-1)을 Sales(t), Sales(t-1)에서 각각 차감"
   ]
  },
  {
   "cell_type": "markdown",
   "metadata": {},
   "source": [
    "(Sales(t) - account_receivable(t) - advanced_payment(t)) / (Sales(t-1) - account_receivable(t-1) - advanced_payment(t-1)) - 1"
   ]
  },
  {
   "cell_type": "markdown",
   "metadata": {},
   "source": [
    "### Earnings Growth Formula"
   ]
  },
  {
   "cell_type": "markdown",
   "metadata": {},
   "source": [
    "비현금성수익 및 비용의 효과를 제거하고 영업활동과 관련된 이익만 계상하기 위해 감가상각비(t, t-1), 순매입채무증감(t, t-1)을 더하고, 순매출채권증감(t, t-1), 순재고자산증감(t, t-1)을 차감"
   ]
  },
  {
   "cell_type": "markdown",
   "metadata": {},
   "source": [
    "(Earnings(t) + depreciation(t)) - net_account_receivable(t) - net_inventory(t) + net_account_payable(t) / (Earnings(t-1) + depreciation(t-1) - net_account_receivable(t-1) - net_inventory(t-1) + net_account_payable(t)) - 1"
   ]
  },
  {
   "cell_type": "markdown",
   "metadata": {},
   "source": [
    "# P3. Technical indicator - trend-line"
   ]
  },
  {
   "cell_type": "markdown",
   "metadata": {},
   "source": [
    "daily price curve의 국소 최소값의 개수를 n이라고 할 경우, 선형보간법(linear interpolation)을 사용해 지지선(linear)를 도출할 수 있다. n == 2 경우 두 점을 이은 하나의 선형 지지선이 되지만, 지지선이 선형(linear)이므로 n >= 3일 경우 특정 local minima가 지지선에 접하지 않는 경우가 발생한다. daily price curve는 비선형이고 균등하지 않을 확률이 높으므로 모든 국소 최소값에 지지선을 맞춰 도출할 경우 지지선의 선형성(linearity)이 없어지거나, 고점 대비 낙폭이 적은 국소 최소값에 접하는 지지선을 상정할 경우 기타 국소 최소값을 침범해 지지선이 해당 최소값보다 높아지는 경우가 발생한다. 따라서 모든 국소 최소값이 지지선에 접하지 않을 수 있다."
   ]
  },
  {
   "cell_type": "markdown",
   "metadata": {},
   "source": [
    "### 1. 국소최소값 찾기"
   ]
  },
  {
   "cell_type": "code",
   "execution_count": 152,
   "metadata": {},
   "outputs": [],
   "source": [
    "def find_local_minima(prices): # 특정 기간의 sequencial 가격 array == prices\n",
    "    minima = {}\n",
    "    length = len(prices)\n",
    "    if length >= 2: # 전체 가격 개수가 2 이상일 경우,\n",
    "        if prices[0] < prices[1]: # 첫번째 값이 두번째 값보다 낮다면\n",
    "            minima[0] = prices[0] # minima에 해당 시점(0)을 key로, 해당 가격을 value로 담기\n",
    "            \n",
    "    if length > 3: # 전체 가격 개수가 3 초과일 경우,\n",
    "        for i in range(1, length-1): # prices의 두번째 값에서 마지막에서 두번째 값까지\n",
    "            if prices[i] < prices[i-1] and prices[i] < prices[i+1]: # 해당 시점 가격이 이전 시점 대비 & 다음 시점 대비 낮다면\n",
    "                minima[i] = prices[i] # minima에 해당 시점(i)을 key로, 해당 가격을 value로 담기\n",
    "                \n",
    "    if prices[length-1] < prices[length-2]: # prices의 마지막 시점 가격이 바로 이전 시점 가격보다 낮다면\n",
    "        minima[length-1] = prices[length-1] # minima에 해당 시점(length-1)을 key로, 해당 가격을 value로 담기\n",
    "        \n",
    "    return minima # 국소최소값이 담긴 dictionary 반환\n",
    "        "
   ]
  },
  {
   "cell_type": "code",
   "execution_count": 164,
   "metadata": {},
   "outputs": [],
   "source": [
    "prices = [20, 17, 16, 12, 14, 17, 23, 27, 29, 31, 27, 14, 11, 14, 17]\n",
    "\n",
    "t = list(find_local_minima(prices).keys())\n",
    "p = list(find_local_minima(prices).values())"
   ]
  },
  {
   "cell_type": "markdown",
   "metadata": {},
   "source": [
    "### 2. 지지선의 선형함수 계산"
   ]
  },
  {
   "cell_type": "markdown",
   "metadata": {},
   "source": [
    "##### 2-1. 국소최소값이 2개일 경우"
   ]
  },
  {
   "cell_type": "code",
   "execution_count": 203,
   "metadata": {},
   "outputs": [],
   "source": [
    "def calc_support(x):\n",
    "    # (y1 - y2) / (x1 - x2) == 기울기 계산식\n",
    "    slope = (p[1] - p[0]) / (t[1] - t[0])\n",
    "\n",
    "    # 절편 계산식(선형보간법 보간함수)\n",
    "    # t == 0 일때 p값 = intercept \n",
    "    intercept = p[0] - (slope*t[0])\n",
    "    \n",
    "    # 특정 시점(t)에 대한 지지선 위치(s)\n",
    "    support_line = slope*x + intercept\n",
    "    print(\"기울기=\", round(slope, 2))\n",
    "    print(\"절편=\", round(intercept, 2))\n",
    "    return support_line"
   ]
  },
  {
   "cell_type": "code",
   "execution_count": 204,
   "metadata": {},
   "outputs": [
    {
     "name": "stdout",
     "output_type": "stream",
     "text": [
      "기울기= -0.11\n",
      "절편= 12.33\n"
     ]
    },
    {
     "data": {
      "text/plain": [
       "12.0"
      ]
     },
     "execution_count": 204,
     "metadata": {},
     "output_type": "execute_result"
    }
   ],
   "source": [
    "calc_support(3)"
   ]
  },
  {
   "cell_type": "markdown",
   "metadata": {},
   "source": [
    "##### 2-2. 국소최소값이 3개 이상일 경우"
   ]
  },
  {
   "cell_type": "code",
   "execution_count": 178,
   "metadata": {},
   "outputs": [],
   "source": [
    "import numpy as np\n",
    "from sklearn import linear_model"
   ]
  },
  {
   "cell_type": "code",
   "execution_count": 200,
   "metadata": {},
   "outputs": [],
   "source": [
    "# 변수 구분하기\n",
    "X = np.array(t)\n",
    "y = np.array(p)\n",
    "\n",
    "# linear regression 모델 선언\n",
    "regr = linear_model.LinearRegression()\n",
    "\n",
    "# regression 학습\n",
    "regr.fit(X, y)\n",
    "\n",
    "print(\"기울기=\", regr.intercept_)\n",
    "print(\"절편=\", regr.coef_)"
   ]
  },
  {
   "cell_type": "markdown",
   "metadata": {},
   "source": [
    "# M1. Shortest Path"
   ]
  },
  {
   "cell_type": "code",
   "execution_count": 1,
   "metadata": {},
   "outputs": [
    {
     "name": "stdout",
     "output_type": "stream",
     "text": [
      "{19.6619037896906: (0, 10), 18.87891157469052: (1, 9), 18.246211251235323: (2, 8), 17.763548202610416: (3, 7), 17.429553284237727: (4, 6), 17.244230807963255: (5, 5), 17.21110255092798: (6, 4), 17.33834974523402: (7, 3), 17.63826381932152: (8, 2), 18.124357109090514: (9, 1)}\n",
      "17.21110255092798 (6, 4)\n"
     ]
    }
   ],
   "source": [
    "# 1차 단계(대략적인 최소값 pair 찾기)\n",
    "# 수직터치해야 하는 수평선상 임의의 점 C와 점A에서 수평선으로 수선의 발을 접하는 점 A'를 꼭짓점으로 하는 ACA' 삼각형 상정\n",
    "# 점C와 점B에서 수평선으로 수선의 발을 접하는 점 B'를 꼭짓점으로 하는 BCB' 삼각형을 상정했을 때,\n",
    "# 수평선을 임의로 나눠 선A'C, 선CB'의 길이를 구한 후 피타고라스 정리를 사용해 선AC, 선CB를 각각 구한 후 가장 최솟값이 되는 합을 구한다.\n",
    "# 0 ~ 10 사이의 정수로 먼저 케이스를 대입해보며 최소값에 근사한 값을 나타내는 점 C의 위치를 가늠한다.\n",
    "\n",
    "# A'C 사이의 거리를 변수 X라고 했을 때,\n",
    "X = range(0, 10) # 0 ~ 10 사이의 거리 케이스\n",
    "distances = {} # 최종 ACB 거리를 key로, (A'C, CB') 페어를 value로 하는 딕셔너리\n",
    "\n",
    "for x in X:\n",
    "    y = (10-x) # CB' 사이의 거리를 변수 y라고 했을 때,\n",
    "    dist = ((8**2) + (x**2))**(0.5) + ((6**2) + (y**2))**(0.5) # 피타고라스 정리를 사용한 최종 길이를 변수 dist라고 한다.\n",
    "    distances[dist] = (x, y) # distances 딕셔너리에 값을 넣는다.\n",
    "    \n",
    "print(distances)\n",
    "min_dist = min(distances.keys()) # 가장 최솟값을 가지는 최종 길이\n",
    "print(min_dist, distances[min_dist]) # 최소 길이 값, (A'C, CB') 페어"
   ]
  },
  {
   "cell_type": "code",
   "execution_count": 2,
   "metadata": {},
   "outputs": [
    {
     "name": "stdout",
     "output_type": "stream",
     "text": [
      "17.204650534085253\n",
      "5.7142857142857135 4.285714285714286\n"
     ]
    }
   ],
   "source": [
    "# 2차 단계(상세 값 찾기)\n",
    "# 선 AA', 선 BB'의 비율이 8:6의 비율이며,\n",
    "# 1차 단계에서 도출한 정수 범위 한정 최솟값 pair도 이와 비슷한 비율인 점을 토대로 유추해볼 때,\n",
    "# 최소 길이를 도출하는 (A'C, CB') 페어역시 8:6의 비율로 구성되어 있는 경우 상정\n",
    "\n",
    "x = 10*(8/14) # 수평선 10m 중 8의 비율을 가지는 A'C의 길이\n",
    "y = 10*(6/14) # 수평선 10m 중 6의 비율을 가지는 CB'의 길이\n",
    "\n",
    "x_ = ((8**2) + x**2)**(0.5) # 피타고라스 정리를 사용한 AC 길이\n",
    "y_ = ((6**2) + y**2)**(0.5) # 피타고라스 정리를 사용한 CB 길이\n",
    "\n",
    "print(x_ + y_) # 최종적으로 도출한 길이 최솟값\n",
    "print(x, y) # 최종길이 최솟값을 도출하는 (A'C, CB') 페어"
   ]
  },
  {
   "cell_type": "markdown",
   "metadata": {},
   "source": [
    "# M5. Poker Game"
   ]
  },
  {
   "cell_type": "code",
   "execution_count": 134,
   "metadata": {},
   "outputs": [],
   "source": [
    "count_possible = 20 * 19\n",
    "num_possible = []\n",
    "for i in range(1, 11):\n",
    "    num_possible.append(i)\n",
    "num_possible = num_possible[::-1]\n",
    "\n",
    "# consecutive numbers list\n",
    "consec = []\n",
    "for n, i in enumerate(num_possible):\n",
    "    pair = (num_possible[n], num_possible[n-1])\n",
    "    consec.append(pair)\n",
    "    \n",
    "consec"
   ]
  },
  {
   "cell_type": "code",
   "execution_count": 135,
   "metadata": {},
   "outputs": [],
   "source": [
    "# pairs\n",
    "pairs = []\n",
    "for i in num_possible:\n",
    "    pair = (i, i)\n",
    "    pairs.append(pair)\n",
    "    \n",
    "pairs"
   ]
  },
  {
   "cell_type": "code",
   "execution_count": 136,
   "metadata": {},
   "outputs": [],
   "source": [
    "# high numbers\n",
    "highs = []\n",
    "for i in num_possible:\n",
    "    for j in num_possible:\n",
    "        pair = (i, j)\n",
    "        if (pair not in consec) and (pair not in pairs) and (pair[::-1] not in consec) and (pair[::-1] not in pairs):\n",
    "            highs.append(pair)\n",
    "            \n",
    "highs"
   ]
  },
  {
   "cell_type": "code",
   "execution_count": 45,
   "metadata": {},
   "outputs": [],
   "source": [
    "total_outcome = consec + pairs + highs"
   ]
  },
  {
   "cell_type": "code",
   "execution_count": 137,
   "metadata": {},
   "outputs": [],
   "source": [
    "total_outcome"
   ]
  },
  {
   "cell_type": "markdown",
   "metadata": {},
   "source": [
    "# E1. Discounted Cash Flow problem"
   ]
  },
  {
   "cell_type": "code",
   "execution_count": 54,
   "metadata": {},
   "outputs": [
    {
     "name": "stdout",
     "output_type": "stream",
     "text": [
      "47907.71714285714\n"
     ]
    }
   ],
   "source": [
    "rent_y1 = 10000.00 # 1년 뒤 첫 월세\n",
    "total_year = 5 # 총 계약 기간\n",
    "interest_rate = 0.03 # 2년 뒤 이자율\n",
    "inflation_rate = 0.02 # 2년 위 물가상승률\n",
    "\n",
    "# 2년마다 조정되는 월세 계산\n",
    "rent_y2 = rent_y1 * ((1 + inflation_rate)**2)\n",
    "rent_y3 = rent_y2\n",
    "rent_y4 = rent_y3 * ((1 + inflation_rate)**2)\n",
    "rent_y5 = rent_y4\n",
    "rents = [rent_y1, rent_y2, rent_y3, rent_y4, rent_y5]\n",
    "\n",
    "# 단리 기반 현재가치 계산(PV = CFn / (1 + nr))\n",
    "# 2년 뒤부터 이자율이 3%이므로 1년 뒤는 이자율 0%(1년 뒤 미래가치는 현재가치와 동일)\n",
    "# 따라서 2년 뒤부터 5년 뒤까지의 4번의 현금흐름에 대해 단리 기반 현재가치 계산 후 1년 뒤 현재가치 합산\n",
    "pv_after_y2 = sum(rents[1:]) / (1+(4*interest_rate))\n",
    "pv = pv_after_y2 + rent_y1\n",
    "print(pv)"
   ]
  },
  {
   "cell_type": "markdown",
   "metadata": {},
   "source": [
    "# E2. Term Structure of Interest Rates"
   ]
  },
  {
   "cell_type": "markdown",
   "metadata": {},
   "source": [
    "1) If Term structure of interest rates is upward sloping, fill this relationship (YTM, Spot Rate,\n",
    "Forward Rate)"
   ]
  },
  {
   "cell_type": "markdown",
   "metadata": {},
   "source": [
    "먼저, 채권에 붙어있는 표면이자율인 Par rate을 사용해 Spot Rate를 도출할 수 있다. n년간(6개월마다 이자를 지급할 경우 0.5년마다) n * 2번 (원금 x Par rate)만큼 이자를 지급할 경우, 해당 이자 지급일 별 cash flow(만기 때는 원금 포함)를 '만기까지 이자 지급이 없는 할인채'로 가정해 현재가지로 할인할 수 있다. 이때 사용하는 할인율이 Spot rate다.\n",
    "\n",
    "YTM은 채권에서 발생하는 미래 현금흐름을 현재가치로 할인했을 때 현재 채권의 가격과 일치시켜주는 할인율이다. 우상향하는 Yield curve에서는 Spot rate가 YTM보다 크다.\n",
    "\n",
    "Forward rate는 Spot rate에 내재되어 있는 미래 이자율이다. 구체적으로는 longterm 채권을 사서 만기까지 보유했을 때의 수익률과 shorterm 채권을 사고 roll-over했을 때의 수익률을 동일하게 만들어주는 이자율이 Forward rate다. 우상향하는 Yield curve에서는 Forward rate가 Spot rate보다 크다."
   ]
  },
  {
   "cell_type": "markdown",
   "metadata": {},
   "source": [
    "2) I have a treasure bond that maturity is 3Y, face value 1000, coupon rate 5%, annual coupon Calculate bond price"
   ]
  },
  {
   "cell_type": "markdown",
   "metadata": {},
   "source": [
    "1000 = 1025 / (1 + x)"
   ]
  },
  {
   "cell_type": "code",
   "execution_count": 62,
   "metadata": {},
   "outputs": [
    {
     "name": "stdout",
     "output_type": "stream",
     "text": [
      "1019.5588342352402\n"
     ]
    }
   ],
   "source": [
    "face_value = 1000\n",
    "coupon_rate = 0.05\n",
    "coupon = face_value * coupon_rate / 2\n",
    "\n",
    "# case 1\n",
    "rates = 0.03\n",
    "year = 1\n",
    "n = year * 2\n",
    "\n",
    "total_pv = 0\n",
    "for i in range(1, n+1):\n",
    "    pv = (coupon / ((1 + (rates/2))**i))\n",
    "    total_pv += pv\n",
    "total_pv += (face_value / ((1 + (rates/2))**n))\n",
    "print(total_pv)"
   ]
  },
  {
   "cell_type": "code",
   "execution_count": 63,
   "metadata": {},
   "outputs": [
    {
     "name": "stdout",
     "output_type": "stream",
     "text": [
      "1019.0386434933715\n"
     ]
    }
   ],
   "source": [
    "# case 2\n",
    "rates = 0.04\n",
    "year = 2\n",
    "n = year * 2\n",
    "\n",
    "total_pv = 0\n",
    "for i in range(1, n+1):\n",
    "    pv = (coupon / ((1 + (rates/2))**i))\n",
    "    total_pv += pv\n",
    "total_pv += (face_value / ((1 + (rates/2))**n))\n",
    "print(total_pv)"
   ]
  },
  {
   "cell_type": "code",
   "execution_count": 64,
   "metadata": {},
   "outputs": [
    {
     "name": "stdout",
     "output_type": "stream",
     "text": [
      "1000.0000000000005\n"
     ]
    }
   ],
   "source": [
    "# case 3\n",
    "rates = 0.05\n",
    "year = 3\n",
    "n = year * 2\n",
    "\n",
    "total_pv = 0\n",
    "for i in range(1, n+1):\n",
    "    pv = (coupon / ((1 + (rates/2))**i))\n",
    "    total_pv += pv\n",
    "total_pv += (face_value / ((1 + (rates/2))**n))\n",
    "print(total_pv)"
   ]
  },
  {
   "cell_type": "markdown",
   "metadata": {},
   "source": [
    "# C1. The second most frequent vowel letter"
   ]
  },
  {
   "cell_type": "code",
   "execution_count": 132,
   "metadata": {},
   "outputs": [],
   "source": [
    "def check_vow(string, vowels='aeiou'): \n",
    "    \n",
    "    string = string.lower() # 모든 string을 소문자로 변환\n",
    "\n",
    "    # 각 vowel를 key로, 0을 value로 가지는 count dictionary\n",
    "    count = {}.fromkeys(vowels, 0) \n",
    "      \n",
    "    # vowel 카운팅\n",
    "    for char in string: # 주어진 string의 각 글자별로\n",
    "        if char in count: # count dictionary에 포함되어 있는 string이라면\n",
    "            count[char] += 1 # count dict에서 해당 vowel 1씩 count\n",
    "    return count # 최종 coutn dict 반환"
   ]
  },
  {
   "cell_type": "code",
   "execution_count": 133,
   "metadata": {},
   "outputs": [
    {
     "name": "stdout",
     "output_type": "stream",
     "text": [
      "a\n"
     ]
    }
   ],
   "source": [
    "# test\n",
    "string = \"abcdeeeooauiea\" # 예시 string\n",
    "count_dict = check_vow(string) # check_vow 함수로 vowel 카운팅\n",
    "value = list(sorted(count_dict.values()))[-2] # 오름차순으로 정렬한 다음 뒤에서 두번째 횟수(두번째 높은 횟수) 찾기\n",
    "for key, value2 in count_dict.items(): # count_dict에서 key, value 중\n",
    "    if value2 == value: # 두번째 높은 횟수(value)를 찾아\n",
    "        print(key) # 해당 vowel(key) 반환"
   ]
  },
  {
   "cell_type": "markdown",
   "metadata": {},
   "source": [
    "# C3. MDD"
   ]
  },
  {
   "cell_type": "code",
   "execution_count": 44,
   "metadata": {},
   "outputs": [],
   "source": [
    "# time과 price sequence list\n",
    "t_price_dict = {0:10, 1:11, 2:12, 3:13, 4:12, 5:10, \n",
    "                6:9, 7:13, 8:14, 9:15, 10:18, 11:19,\n",
    "               12:20, 13:22, 14:23, 15:20, 16:17, 17:16,\n",
    "                18:19, 19:24, 20:23}\n",
    "\n",
    "price_list = list(t_price_dict.values())"
   ]
  },
  {
   "cell_type": "code",
   "execution_count": 45,
   "metadata": {},
   "outputs": [],
   "source": [
    "def find_mdd_start(price_list):\n",
    "    # MDD가 시작하는 구간 찾기\n",
    "    down_list = []\n",
    "    for t, p in enumerate(price_list[:-1]):\n",
    "        # 이전 시간(t-1) 가격보다 낮고, 다음 시간(t+1) 가격보다 높은 현재 가격 찾기 == 가격 하락 구간\n",
    "         if (price_list[t-1]) > p and (p > price_list[t+1]):\n",
    "                down_list.append(t-1) # MDD 가격 하락 구간\n",
    "\n",
    "    # 가격 하락 구간 중 MDD 시작 시점 찾기\n",
    "    for n, l in enumerate(down_list):\n",
    "        # sequence 중 기간(n)이 1 차이씩 연속되는 구간 중 첫번째 t만 남기고 삭제 == MDD 시작 시점만 남기기\n",
    "        if l-1 == down_list[n-1]:\n",
    "            del down_list[n]\n",
    "            \n",
    "    return down_list"
   ]
  },
  {
   "cell_type": "code",
   "execution_count": 46,
   "metadata": {},
   "outputs": [],
   "source": [
    "def find_mdd_recover(start_list, price_list):\n",
    "    # MDD 시작 가격 회복 시점 찾기\n",
    "    recover_n = []\n",
    "\n",
    "    for loop in range(len(start_list)):\n",
    "        n_start = start_list[loop] # MDD 시작 시점마다,\n",
    "        for n, p in enumerate(price_list):\n",
    "            # MDD 시작 시점 이후 & MDD 시작 시점 가격보다 크거나 같은 가격 찾은 후,\n",
    "            if (n > n_start) and (price_list[n_start] <= p):\n",
    "                recover_n.append(n) # recover_n에 담기\n",
    "                break # 1회만 찾고 break(회복 시점은 단 한 번)\n",
    "                \n",
    "    return recover_n"
   ]
  },
  {
   "cell_type": "code",
   "execution_count": 47,
   "metadata": {},
   "outputs": [],
   "source": [
    "def find_lowest_price(start_list, recover_list, price_list):\n",
    "    # 각 MDD 별 가장 낮은 가격 찾기\n",
    "    lowest_prices = []\n",
    "\n",
    "    for i in range(len(recover_n)): # MDD 개수 별로,\n",
    "        start = start_list[i] # MDD 시작 시점\n",
    "        end = recover_list[i] + 1 # MDD 완전 회복 시점\n",
    "        p_list = []\n",
    "        for j in range(start, end): # 시작 시점에서 회복 시점 사이에서,\n",
    "            p = price_list[j] # 각 시점별 가격을 \n",
    "            p_list.append(p) # p_list에 담고\n",
    "        lowest_p = min(p_list) # 그중 가장 낮았던 가격만 \n",
    "        lowest_prices.append(lowest_p) # lowest_prices에 담는다\n",
    "\n",
    "    return lowest_prices"
   ]
  },
  {
   "cell_type": "code",
   "execution_count": 48,
   "metadata": {},
   "outputs": [],
   "source": [
    "def calc_mdd_size(start_list, price_list, lowest_prices):\n",
    "    # 각 MDD size 계산하기\n",
    "    mdd_sizes = []\n",
    "    for i in range(len(start_list)): # MDD 개수 별로,\n",
    "        start = start_list[i] # MDD 시작 시점\n",
    "        start_price = price_list[start] # MDD 시작 시점 가격\n",
    "        lowest_price = lowest_prices[i] # 가장 낮았던 가격\n",
    "        mdd_size = start_price - lowest_price # MDD size를\n",
    "        mdd_sizes.append(mdd_size) # mdd_sizes에 담기\n",
    "\n",
    "    return mdd_sizes"
   ]
  },
  {
   "cell_type": "code",
   "execution_count": 49,
   "metadata": {},
   "outputs": [],
   "source": [
    "def result_matching(mdd_sizes, recover_list):\n",
    "    # MDD size와 회복 시점 tuple로 매칭\n",
    "    result_pairs = []\n",
    "    for i in range(len(mdd_sizes)): # MDD 개수 별로,\n",
    "        mdd_size = mdd_sizes[i] # MDD size\n",
    "        recover_t = recover_list[i] # MDD 회복시점\n",
    "        pair = (mdd_size, recover_t) # pair tuple 생성 후\n",
    "        result_pairs.append(pair) # result_paris에 담기\n",
    "\n",
    "    result_pairs.sort(reverse=True) # mdd_size가 큰 순서대로 정렬\n",
    "    return result_pairs"
   ]
  },
  {
   "cell_type": "code",
   "execution_count": 50,
   "metadata": {},
   "outputs": [],
   "source": [
    "def mdd_main(k):\n",
    "    start_list = find_mdd_start(price_list)\n",
    "    recover_list = find_mdd_recover(start_list, price_list)\n",
    "    lowest_prices = find_lowest_price(start_list, recover_list, price_list)\n",
    "    mdd_sizes = calc_mdd_size(start_list, price_list, lowest_prices)\n",
    "    result_pairs = result_matching(mdd_sizes, recover_list)\n",
    "    \n",
    "    print(result_pairs[:k]) # k 개수만큼 출력"
   ]
  },
  {
   "cell_type": "code",
   "execution_count": 51,
   "metadata": {},
   "outputs": [
    {
     "name": "stdout",
     "output_type": "stream",
     "text": [
      "[(7, 19)]\n"
     ]
    }
   ],
   "source": [
    "mdd_main(1)"
   ]
  },
  {
   "cell_type": "markdown",
   "metadata": {},
   "source": [
    "# C102"
   ]
  },
  {
   "cell_type": "code",
   "execution_count": null,
   "metadata": {},
   "outputs": [],
   "source": [
    "# 시도했으나 작동하지 않는 코드\n",
    "# 작동하는 코드는 다음 셀부터\n",
    "\n",
    "filename = 'Email Coding C102.txt'\n",
    "f = open(filename, 'r+')\n",
    "\n",
    "X_matrix = []\n",
    "for i in range(200):\n",
    "    X_row = []\n",
    "    for j in range(200):\n",
    "        sum_elem = 0\n",
    "        for k in range(10):\n",
    "            a_matrix = f.read().split('|')[k].replace(\"float('nan')\", \"0\") # from 0 to 9 matrices (\"float('nan')\") to 0\n",
    "            row_by_row = a_matrix.split(';') # len == 200 rows\n",
    "            a_row = [float(num) for num in row_by_row[i].split(',') if num != 'nan'] # from 0 to 199\n",
    "            elem = a_row[j] # from 0 to 199\n",
    "            sum_elem += elem\n",
    "            \n",
    "        mean_elem = sum_elem / 10\n",
    "        X_row.append(mean_elem)\n",
    "    X_matrix.append(X_row)\n",
    "    \n",
    "print(X_matrix)\n",
    "f.close()"
   ]
  },
  {
   "cell_type": "markdown",
   "metadata": {},
   "source": [
    "## mean(X) Matrix & median(Y) Matrix"
   ]
  },
  {
   "cell_type": "code",
   "execution_count": 124,
   "metadata": {},
   "outputs": [],
   "source": [
    "from tqdm import tqdm # for progress bar"
   ]
  },
  {
   "cell_type": "code",
   "execution_count": 90,
   "metadata": {},
   "outputs": [],
   "source": [
    "# file read 후 각 matrix 변수 담기\n",
    "# 본래 위 코드와 같이 for loop를 사용해 각 Matrix를 읽어오려 했으나 대용량 파일 read 이슈로 인해 각각 따로 read\n",
    "filename = 'Email Coding C102.txt'\n",
    "f = open(filename, 'r+')\n",
    "\n",
    "# 원본 데이터에 포함된 nan, inf 값을 0으로, \\n을 제거하는 함수\n",
    "def replace_string(matrix):\n",
    "    chars = [\"float('nan')\", \"float('inf')\"]\n",
    "    for char in chars:\n",
    "        matrix = matrix.replace(char, \"0\")\n",
    "    matrix = matrix.replace(\"\\n\", '')\n",
    "    return matrix\n",
    "\n",
    "# 아래부터 10개 각 Matrix read\n",
    "f = open(filename, 'r+')\n",
    "first_matrix = f.read().split('|')[0]\n",
    "first_matrix = replace_string(first_matrix)\n",
    "f.close()\n",
    "\n",
    "f = open(filename, 'r+')\n",
    "second_matrix = f.read().split('|')[1]\n",
    "second_matrix = replace_string(second_matrix)\n",
    "f.close()\n",
    "\n",
    "f = open(filename, 'r+')\n",
    "third_matrix = f.read().split('|')[2]\n",
    "third_matrix = replace_string(third_matrix)\n",
    "f.close()\n",
    "\n",
    "f = open(filename, 'r+')\n",
    "forth_matrix = f.read().split('|')[3]\n",
    "forth_matrix = replace_string(forth_matrix)\n",
    "f.close()\n",
    "\n",
    "f = open(filename, 'r+')\n",
    "fifth_matrix = f.read().split('|')[4]\n",
    "fifth_matrix = replace_string(fifth_matrix)\n",
    "f.close()\n",
    "\n",
    "f = open(filename, 'r+')\n",
    "sixth_matrix = f.read().split('|')[5]\n",
    "sixth_matrix = replace_string(sixth_matrix)\n",
    "f.close()\n",
    "\n",
    "f = open(filename, 'r+')\n",
    "seventh_matrix = f.read().split('|')[6]\n",
    "seventh_matrix = replace_string(seventh_matrix)\n",
    "f.close()\n",
    "\n",
    "f = open(filename, 'r+')\n",
    "eighth_matrix = f.read().split('|')[7]\n",
    "eighth_matrix = replace_string(eighth_matrix)\n",
    "f.close()\n",
    "\n",
    "f = open(filename, 'r+')\n",
    "nineth_matrix = f.read().split('|')[8]\n",
    "nineth_matrix = replace_string(nineth_matrix)\n",
    "f.close()\n",
    "\n",
    "f = open(filename, 'r+')\n",
    "tenth_matrix = f.read().split('|')[9]\n",
    "tenth_matrix = replace_string(tenth_matrix)\n",
    "f.close()\n"
   ]
  },
  {
   "cell_type": "code",
   "execution_count": 95,
   "metadata": {},
   "outputs": [],
   "source": [
    "# 전체 Matrix가 담긴 list\n",
    "matrices = [first_matrix, second_matrix, third_matrix, forth_matrix, fifth_matrix,\n",
    "            sixth_matrix, seventh_matrix, eighth_matrix, nineth_matrix, tenth_matrix]\n",
    "\n",
    "num_matrices = len(matrices) # 총 Matix 개수 == 10"
   ]
  },
  {
   "cell_type": "code",
   "execution_count": 119,
   "metadata": {},
   "outputs": [],
   "source": [
    "# Median 값을 구하기 위한 함수\n",
    "def median(data):\n",
    "    data.sort()\n",
    "    mid = len(data) // 2\n",
    "    return (data[mid] + data[~mid]) / 2"
   ]
  },
  {
   "cell_type": "code",
   "execution_count": 125,
   "metadata": {
    "scrolled": true
   },
   "outputs": [],
   "source": [
    "# X Matrix를 계산하기 위해 총 10개 Matrix의 각 200개 row의 각 200 elem을 순회하며 계산\n",
    "\n",
    "X_matrix = []\n",
    "Y_matrix = []\n",
    "for i in tqdm(range(200)):\n",
    "    X_row = []\n",
    "    Y_row = []\n",
    "    for j in range(200):\n",
    "        sum_elem = 0 # 평균 계산을 위한 총합 for Matrix X\n",
    "        list_elem = [] # median 계산을 위한 list for Matrix Y\n",
    "        for matrix in matrices: # 모든 Matrix를 하나씩 반복하며\n",
    "            row_by_row = matrix.split(';') # len == 200 rows인 matrix\n",
    "            a_row = [float(num) for num in row_by_row[i].split(',')] # 각 i번째 row별로 (from 0 to 199)\n",
    "            elem = a_row[j] # i 번째 row의 j 번째 element\n",
    "            sum_elem += elem # 각 Matrix [i,j]의 총합 for Matrix X\n",
    "            list_elem.append(elem) # 각 Matrix [i,j] elem 모음 for Matrix Y\n",
    "            \n",
    "        mean_elem = sum_elem / num_matrices # Marix X의 element인 평균값을 구한 후\n",
    "        X_row.append(mean_elem) # X_row에 담기\n",
    "        \n",
    "        median_elem = median(list_elem) # Matrix Y의 element인 median을 구한 후\n",
    "        Y_row.append(median_elem) # Y_row에 담기\n",
    "        \n",
    "    X_matrix.append(X_row) # 200개로 이루어진 X_row가 모두 담기면 최종 X_matrix에 담기\n",
    "    Y_matrix.append(Y_row) # 200개로 이루어진 Y_row가 모두 담기면 최종 Y_matrix에 담기\n",
    "    "
   ]
  },
  {
   "cell_type": "code",
   "execution_count": null,
   "metadata": {},
   "outputs": [],
   "source": []
  }
 ],
 "metadata": {
  "kernelspec": {
   "display_name": "Python 3",
   "language": "python",
   "name": "python3"
  },
  "language_info": {
   "codemirror_mode": {
    "name": "ipython",
    "version": 3
   },
   "file_extension": ".py",
   "mimetype": "text/x-python",
   "name": "python",
   "nbconvert_exporter": "python",
   "pygments_lexer": "ipython3",
   "version": "3.6.5"
  }
 },
 "nbformat": 4,
 "nbformat_minor": 2
}
